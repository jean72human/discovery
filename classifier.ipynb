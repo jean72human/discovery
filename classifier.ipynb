{
 "cells": [
  {
   "cell_type": "code",
   "execution_count": 11,
   "metadata": {},
   "outputs": [],
   "source": [
    "## imports\n",
    "import os\n",
    "import numpy as np\n",
    "import torch\n",
    "import torchvision\n",
    "from torchvision import datasets, models, transforms\n",
    "import matplotlib.pyplot as plt\n",
    "%matplotlib inline"
   ]
  },
  {
   "cell_type": "code",
   "execution_count": 12,
   "metadata": {},
   "outputs": [
    {
     "name": "stdout",
     "output_type": "stream",
     "text": [
      "CUDA is available!  Training on GPU ...\n"
     ]
    }
   ],
   "source": [
    "# check if CUDA is available\n",
    "train_on_gpu = torch.cuda.is_available()\n",
    "device = 'cpu'\n",
    "if not train_on_gpu:\n",
    "    print('CUDA is not available.  Training on CPU ...')\n",
    "else:\n",
    "    print('CUDA is available!  Training on GPU ...')\n",
    "    device = 'cuda'"
   ]
  },
  {
   "cell_type": "code",
   "execution_count": 13,
   "metadata": {},
   "outputs": [],
   "source": [
    "data_transform =  transforms.Compose([\n",
    "    transforms.Resize(256),\n",
    "    transforms.CenterCrop(224),\n",
    "    transforms.ToTensor(),\n",
    "    transforms.Normalize([0.485, 0.456, 0.406], [0.229, 0.224, 0.225])\n",
    "])"
   ]
  },
  {
   "cell_type": "code",
   "execution_count": 14,
   "metadata": {},
   "outputs": [
    {
     "name": "stdout",
     "output_type": "stream",
     "text": [
      "10000 images\n"
     ]
    }
   ],
   "source": [
    "data_dir = 'food-101/images'\n",
    "batch_size = 100\n",
    "num_workers = 0\n",
    "dataset = datasets.ImageFolder(\n",
    "        data_dir, \n",
    "        transform=data_transform)\n",
    "print(len(dataset),\"images\")\n",
    "## split data between train and test. Total of 101,000 images \n",
    "## we use 100,000 for aining and 1,000 for testing\n",
    "train_data,test_data=torch.utils.data.random_split(dataset,(9000,1000))\n",
    "# prepare data loaders\n",
    "train_loader = torch.utils.data.DataLoader(train_data, batch_size=batch_size, \n",
    "                                           num_workers=num_workers, shuffle=True)\n",
    "test_loader = torch.utils.data.DataLoader(test_data, batch_size=batch_size, \n",
    "                                          num_workers=num_workers, shuffle=True)"
   ]
  },
  {
   "cell_type": "code",
   "execution_count": 15,
   "metadata": {},
   "outputs": [],
   "source": [
    "\n",
    "densenet = models.densenet161(pretrained=True) ## load the pretrained model\n",
    "#print(densenet)"
   ]
  },
  {
   "cell_type": "code",
   "execution_count": 16,
   "metadata": {},
   "outputs": [],
   "source": [
    "\n",
    "# Freeze training for all \"features\" layers\n",
    "for param in densenet.features.parameters():\n",
    "    param.requires_grad = False"
   ]
  },
  {
   "cell_type": "code",
   "execution_count": 17,
   "metadata": {},
   "outputs": [
    {
     "name": "stdout",
     "output_type": "stream",
     "text": [
      "10\n"
     ]
    }
   ],
   "source": [
    "\n",
    "import torch.nn as nn\n",
    "n_inputs = densenet.classifier.in_features\n",
    "last_layer = nn.Linear(n_inputs,10)\n",
    "densenet.classifier = last_layer\n",
    "# if GPU is available, move the model to GPU\n",
    "if train_on_gpu:\n",
    "    densenet.cuda()\n",
    "# check to see that your last layer produces the expected number of outputs\n",
    "print(densenet.classifier.out_features)"
   ]
  },
  {
   "cell_type": "code",
   "execution_count": 18,
   "metadata": {},
   "outputs": [],
   "source": [
    "\n",
    "import torch.optim as optim\n",
    "# specify loss function (categorical cross-entropy)\n",
    "criterion = nn.CrossEntropyLoss()\n",
    "# specify optimizer and learning rate\n",
    "optimizer = optim.Adam(densenet.classifier.parameters(), lr=0.001)\n"
   ]
  },
  {
   "cell_type": "code",
   "execution_count": 19,
   "metadata": {},
   "outputs": [],
   "source": [
    "\n",
    "## function to train the network\n",
    "def train(model, device, train_loader, optimizer, criterion, epoch):\n",
    "    model.train()\n",
    "    train_loss = 0\n",
    "    correct = 0\n",
    "    for batch_idx, (data, target) in enumerate(train_loader):\n",
    "        data, target = data.to(device), target.to(device)\n",
    "        optimizer.zero_grad()\n",
    "        output = model(data)\n",
    "        loss = criterion(output, target)\n",
    "        loss.backward()\n",
    "        optimizer.step()\n",
    "        train_loss += loss.item()\n",
    "        pred = output.max(1, keepdim=True)[1] # get the index of the max log-probability\n",
    "        correct += pred.eq(target.view_as(pred)).sum().item()\n",
    "        \n",
    "    train_loss /= len(train_loader.dataset)\n",
    "    print('Epoch: {} , Training Accuracy: {}/{} ({:.0f}%) Training Loss: {:.6f}'.format(\n",
    "                epoch, correct, len(train_loader.dataset),\n",
    "                100. * correct / len(train_loader.dataset), train_loss))\n",
    "\n",
    "## function to train the network\n",
    "def test(model, device, criterion, test_loader):\n",
    "    model.eval()\n",
    "    test_loss = 0\n",
    "    correct = 0\n",
    "    with torch.no_grad():\n",
    "        for data, target in test_loader:\n",
    "            data, target = data.to(device), target.to(device)\n",
    "            output = model(data)\n",
    "            test_loss += criterion(output, target).item()\n",
    "            pred = output.max(1, keepdim=True)[1] # get the index of the max log-probability\n",
    "            correct += pred.eq(target.view_as(pred)).sum().item()\n",
    "\n",
    "    test_loss /= len(test_loader.dataset)\n",
    "\n",
    "    print('Test loss: {:.4f}, Test Accuracy: {}/{} ({:.0f}%)\\n'.format(\n",
    "        test_loss, correct, len(test_loader.dataset),\n",
    "        100. * correct / len(test_loader.dataset)))"
   ]
  },
  {
   "cell_type": "code",
   "execution_count": 20,
   "metadata": {},
   "outputs": [
    {
     "name": "stdout",
     "output_type": "stream",
     "text": [
      "Epoch: 1 , Training Accuracy: 6624/9000 (74%) Training Loss: 0.010990\n",
      "Test loss: 0.0058, Test Accuracy: 861/1000 (86%)\n",
      "\n",
      "\n",
      "\n",
      "Epoch: 2 , Training Accuracy: 7871/9000 (87%) Training Loss: 0.005144\n",
      "Test loss: 0.0044, Test Accuracy: 880/1000 (88%)\n",
      "\n",
      "\n",
      "\n",
      "Epoch: 3 , Training Accuracy: 8004/9000 (89%) Training Loss: 0.004133\n",
      "Test loss: 0.0038, Test Accuracy: 898/1000 (90%)\n",
      "\n",
      "\n",
      "\n",
      "Epoch: 4 , Training Accuracy: 8118/9000 (90%) Training Loss: 0.003564\n",
      "Test loss: 0.0035, Test Accuracy: 900/1000 (90%)\n",
      "\n",
      "\n",
      "\n",
      "Epoch: 5 , Training Accuracy: 8172/9000 (91%) Training Loss: 0.003289\n",
      "Test loss: 0.0033, Test Accuracy: 904/1000 (90%)\n",
      "\n",
      "\n",
      "\n",
      "Epoch: 6 , Training Accuracy: 8239/9000 (92%) Training Loss: 0.003003\n",
      "Test loss: 0.0032, Test Accuracy: 907/1000 (91%)\n",
      "\n",
      "\n",
      "\n",
      "Epoch: 7 , Training Accuracy: 8294/9000 (92%) Training Loss: 0.002789\n",
      "Test loss: 0.0032, Test Accuracy: 911/1000 (91%)\n",
      "\n",
      "\n",
      "\n",
      "Done training\n"
     ]
    }
   ],
   "source": [
    "# number of epochs to train the model\n",
    "n_epochs = 7\n",
    "for epoch in range(1, n_epochs+1):\n",
    "    \n",
    "    train (densenet, device, train_loader, optimizer, criterion, epoch)\n",
    "    test (densenet, device, criterion, test_loader)\n",
    "    \n",
    "    print ('\\n')\n",
    "            \n",
    "print (\"Done training\")\n"
   ]
  },
  {
   "cell_type": "code",
   "execution_count": 21,
   "metadata": {},
   "outputs": [
    {
     "name": "stdout",
     "output_type": "stream",
     "text": [
      "Accuracy of the network on the test images: 91 %\n"
     ]
    }
   ],
   "source": [
    "\n",
    "correct = 0\n",
    "total = 0\n",
    "with torch.no_grad():\n",
    "    for data in test_loader:\n",
    "        images, labels = data\n",
    "        if train_on_gpu:\n",
    "            images, labels = images.cuda(), labels.cuda()\n",
    "        outputs = densenet(images)\n",
    "        _, predicted = torch.max(outputs.data, 1)\n",
    "        total += labels.size(0)\n",
    "        correct += (predicted == labels).sum().item()\n",
    "print('Accuracy of the network on the test images: %d %%' % (\n",
    "    100 * correct / total))"
   ]
  },
  {
   "cell_type": "code",
   "execution_count": 22,
   "metadata": {},
   "outputs": [],
   "source": [
    "torch.save(densenet.state_dict(), 'densenet-91.pwf')"
   ]
  },
  {
   "cell_type": "code",
   "execution_count": null,
   "metadata": {},
   "outputs": [],
   "source": []
  }
 ],
 "metadata": {
  "kernelspec": {
   "display_name": "Python 3",
   "language": "python",
   "name": "python3"
  },
  "language_info": {
   "codemirror_mode": {
    "name": "ipython",
    "version": 3
   },
   "file_extension": ".py",
   "mimetype": "text/x-python",
   "name": "python",
   "nbconvert_exporter": "python",
   "pygments_lexer": "ipython3",
   "version": "3.6.5"
  }
 },
 "nbformat": 4,
 "nbformat_minor": 2
}
